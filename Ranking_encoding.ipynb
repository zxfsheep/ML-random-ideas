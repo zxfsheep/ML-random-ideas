{
 "cells": [
  {
   "cell_type": "markdown",
   "metadata": {},
   "source": [
    "A common technique to deal with categorical features for non-deep machine learning models is one-hot encoding(For deep learning, they can be embedded in a vector space as in **Factorization Machines**). \n",
    "\n",
    "However, this has some drawbacks in practice. For example, this creates a lot of sparse features if the number of categories is large, which can confuse the machine learning models. For tree based models, a common technique to overcome overfitting is to use a proper subset of features for each tree or level. In this case, too many sparse features can dilute the amount of useful information. \n",
    "\n",
    "Another popular encoding is **mean encoding**, i.e. encode a category by its target mean. This however can still cause potential trouble, as categories with the same or very close target mean can be mixed together, but we still want to differentiate them as they might have very different interactions with other features. After all, the main goal of encoding is to encode, not providing correlation with target. The decision trees can find out the correlations automatically during training.\n",
    "\n",
    "Therefore I chose to encode all categorical features by their **rankings** of target mean, which is also a very nice application of pandas. In case of a tie, we just break the tie arbitrarily."
   ]
  },
  {
   "cell_type": "code",
   "execution_count": 1,
   "metadata": {},
   "outputs": [],
   "source": [
    "from tqdm import tnrange, tqdm_notebook, tqdm\n",
    "import numpy as np\n",
    "import pandas as pd\n",
    "import matplotlib.pyplot as plt\n",
    "import seaborn as sns\n",
    "plt.ion()\n",
    "import warnings; warnings.simplefilter('ignore')\n",
    "tqdm.pandas(tqdm_notebook)\n",
    "from scipy.stats import skew, skewtest\n",
    "from scipy.special import boxcox1p"
   ]
  },
  {
   "cell_type": "markdown",
   "metadata": {},
   "source": [
    "Using pandas' `groupby` method, we can conveniently realize the encoding. Here we will treat `nan` values just as another category. Since `groupby` does not recognize `nan`, we first replace it by an impossible value, here for example `-1000000`. Then we calculate the target mean of each group and sort them, breaking ties arbitrarily.\n",
    "\n",
    "Now to get the integer ranking, we use the `reset_index()` method, which automatically assigns integer ordering to the groups. Finally we replace the category names by the rankings, and return the encoding information."
   ]
  },
  {
   "cell_type": "code",
   "execution_count": 2,
   "metadata": {},
   "outputs": [],
   "source": [
    "def rank_encoding(df, col, tar):\n",
    "    if df[col].isnull().sum()>0:\n",
    "        df.fillna(value = {col: -1000000}, inplace = True)\n",
    "    prob = df.groupby(col)[tar].mean().sort_values().reset_index()\n",
    "    \n",
    "    coding = {}\n",
    "    for ind, row in prob.iterrows():\n",
    "        if row[col] == -1000000:\n",
    "            key = np.nan\n",
    "        else:\n",
    "            key = row[col]\n",
    "        coding[key] = int(ind)\n",
    "    df.replace({col: -1000000}, np.nan, inplace = True)\n",
    "    df.replace({col:coding}, inplace = True)\n",
    "    return coding"
   ]
  },
  {
   "cell_type": "code",
   "execution_count": null,
   "metadata": {},
   "outputs": [],
   "source": [
    "df = pd.read_csv('train.csv', index_col = 0)"
   ]
  },
  {
   "cell_type": "markdown",
   "metadata": {},
   "source": [
    "`cat_dict` stores all the encodings for the categorical features."
   ]
  },
  {
   "cell_type": "code",
   "execution_count": null,
   "metadata": {},
   "outputs": [],
   "source": [
    "cat_dict = {}\n",
    "for col in df.columns:\n",
    "    if df[col].dtype == 'object':\n",
    "        coding = rank_encoding(df, col, 'TARGET')\n",
    "        cat_dict[col] = coding"
   ]
  }
 ],
 "metadata": {
  "kernelspec": {
   "display_name": "Python [conda env:GPU]",
   "language": "python",
   "name": "conda-env-GPU-py"
  },
  "language_info": {
   "codemirror_mode": {
    "name": "ipython",
    "version": 3
   },
   "file_extension": ".py",
   "mimetype": "text/x-python",
   "name": "python",
   "nbconvert_exporter": "python",
   "pygments_lexer": "ipython3",
   "version": "3.6.6"
  },
  "varInspector": {
   "cols": {
    "lenName": 16,
    "lenType": 16,
    "lenVar": 40
   },
   "kernels_config": {
    "python": {
     "delete_cmd_postfix": "",
     "delete_cmd_prefix": "del ",
     "library": "var_list.py",
     "varRefreshCmd": "print(var_dic_list())"
    },
    "r": {
     "delete_cmd_postfix": ") ",
     "delete_cmd_prefix": "rm(",
     "library": "var_list.r",
     "varRefreshCmd": "cat(var_dic_list()) "
    }
   },
   "types_to_exclude": [
    "module",
    "function",
    "builtin_function_or_method",
    "instance",
    "_Feature"
   ],
   "window_display": false
  }
 },
 "nbformat": 4,
 "nbformat_minor": 2
}
